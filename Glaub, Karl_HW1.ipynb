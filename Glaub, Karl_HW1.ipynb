{
 "metadata": {
  "name": "",
  "signature": "sha256:c6a1f8035d86db41590370b9d3c76f043a200b8a14e943f321c96b0dd0310953"
 },
 "nbformat": 3,
 "nbformat_minor": 0,
 "worksheets": [
  {
   "cells": [
    {
     "cell_type": "code",
     "collapsed": false,
     "input": [
      "import numpy as np\n",
      "import pandas as pd\n",
      "import matplotlib.pyplot as plt"
     ],
     "language": "python",
     "metadata": {},
     "outputs": [],
     "prompt_number": 1
    },
    {
     "cell_type": "code",
     "collapsed": false,
     "input": [
      "# Limit rows displayed in notebook\n",
      "pd.set_option('display.max_rows', 10)\n",
      "pd.set_option('display.precision', 3)\n",
      "\n",
      "%matplotlib inline"
     ],
     "language": "python",
     "metadata": {},
     "outputs": [],
     "prompt_number": 12
    },
    {
     "cell_type": "code",
     "collapsed": false,
     "input": [
      "titanic_data = pd.read_csv('titanic.csv')"
     ],
     "language": "python",
     "metadata": {},
     "outputs": [],
     "prompt_number": 7
    },
    {
     "cell_type": "code",
     "collapsed": false,
     "input": [
      "titanic_data.head()"
     ],
     "language": "python",
     "metadata": {},
     "outputs": [
      {
       "html": [
        "<div style=\"max-height:1000px;max-width:1500px;overflow:auto;\">\n",
        "<table border=\"1\" class=\"dataframe\">\n",
        "  <thead>\n",
        "    <tr style=\"text-align: right;\">\n",
        "      <th></th>\n",
        "      <th>pclass</th>\n",
        "      <th>survived</th>\n",
        "      <th>name</th>\n",
        "      <th>sex</th>\n",
        "      <th>age</th>\n",
        "      <th>sibsp</th>\n",
        "      <th>parch</th>\n",
        "      <th>ticket</th>\n",
        "      <th>fare</th>\n",
        "      <th>cabin</th>\n",
        "      <th>embarked</th>\n",
        "      <th>boat</th>\n",
        "      <th>body</th>\n",
        "      <th>home.dest</th>\n",
        "    </tr>\n",
        "  </thead>\n",
        "  <tbody>\n",
        "    <tr>\n",
        "      <th>0</th>\n",
        "      <td> 1</td>\n",
        "      <td> 1</td>\n",
        "      <td>                   Allen, Miss. Elisabeth Walton</td>\n",
        "      <td> female</td>\n",
        "      <td> 29.0</td>\n",
        "      <td> 0</td>\n",
        "      <td> 0</td>\n",
        "      <td>  24160</td>\n",
        "      <td> 211.3</td>\n",
        "      <td>      B5</td>\n",
        "      <td> S</td>\n",
        "      <td>   2</td>\n",
        "      <td> NaN</td>\n",
        "      <td>                    St Louis, MO</td>\n",
        "    </tr>\n",
        "    <tr>\n",
        "      <th>1</th>\n",
        "      <td> 1</td>\n",
        "      <td> 1</td>\n",
        "      <td>                  Allison, Master. Hudson Trevor</td>\n",
        "      <td>   male</td>\n",
        "      <td>  0.9</td>\n",
        "      <td> 1</td>\n",
        "      <td> 2</td>\n",
        "      <td> 113781</td>\n",
        "      <td> 151.6</td>\n",
        "      <td> C22 C26</td>\n",
        "      <td> S</td>\n",
        "      <td>  11</td>\n",
        "      <td> NaN</td>\n",
        "      <td> Montreal, PQ / Chesterville, ON</td>\n",
        "    </tr>\n",
        "    <tr>\n",
        "      <th>2</th>\n",
        "      <td> 1</td>\n",
        "      <td> 0</td>\n",
        "      <td>                    Allison, Miss. Helen Loraine</td>\n",
        "      <td> female</td>\n",
        "      <td>  2.0</td>\n",
        "      <td> 1</td>\n",
        "      <td> 2</td>\n",
        "      <td> 113781</td>\n",
        "      <td> 151.6</td>\n",
        "      <td> C22 C26</td>\n",
        "      <td> S</td>\n",
        "      <td> NaN</td>\n",
        "      <td> NaN</td>\n",
        "      <td> Montreal, PQ / Chesterville, ON</td>\n",
        "    </tr>\n",
        "    <tr>\n",
        "      <th>3</th>\n",
        "      <td> 1</td>\n",
        "      <td> 0</td>\n",
        "      <td>            Allison, Mr. Hudson Joshua Creighton</td>\n",
        "      <td>   male</td>\n",
        "      <td> 30.0</td>\n",
        "      <td> 1</td>\n",
        "      <td> 2</td>\n",
        "      <td> 113781</td>\n",
        "      <td> 151.6</td>\n",
        "      <td> C22 C26</td>\n",
        "      <td> S</td>\n",
        "      <td> NaN</td>\n",
        "      <td> 135</td>\n",
        "      <td> Montreal, PQ / Chesterville, ON</td>\n",
        "    </tr>\n",
        "    <tr>\n",
        "      <th>4</th>\n",
        "      <td> 1</td>\n",
        "      <td> 0</td>\n",
        "      <td> Allison, Mrs. Hudson J C (Bessie Waldo Daniels)</td>\n",
        "      <td> female</td>\n",
        "      <td> 25.0</td>\n",
        "      <td> 1</td>\n",
        "      <td> 2</td>\n",
        "      <td> 113781</td>\n",
        "      <td> 151.6</td>\n",
        "      <td> C22 C26</td>\n",
        "      <td> S</td>\n",
        "      <td> NaN</td>\n",
        "      <td> NaN</td>\n",
        "      <td> Montreal, PQ / Chesterville, ON</td>\n",
        "    </tr>\n",
        "  </tbody>\n",
        "</table>\n",
        "</div>"
       ],
       "metadata": {},
       "output_type": "pyout",
       "prompt_number": 8,
       "text": [
        "   pclass  survived                                             name     sex  \\\n",
        "0       1         1                    Allen, Miss. Elisabeth Walton  female   \n",
        "1       1         1                   Allison, Master. Hudson Trevor    male   \n",
        "2       1         0                     Allison, Miss. Helen Loraine  female   \n",
        "3       1         0             Allison, Mr. Hudson Joshua Creighton    male   \n",
        "4       1         0  Allison, Mrs. Hudson J C (Bessie Waldo Daniels)  female   \n",
        "\n",
        "    age  sibsp  parch  ticket   fare    cabin embarked boat  body  \\\n",
        "0  29.0      0      0   24160  211.3       B5        S    2   NaN   \n",
        "1   0.9      1      2  113781  151.6  C22 C26        S   11   NaN   \n",
        "2   2.0      1      2  113781  151.6  C22 C26        S  NaN   NaN   \n",
        "3  30.0      1      2  113781  151.6  C22 C26        S  NaN   135   \n",
        "4  25.0      1      2  113781  151.6  C22 C26        S  NaN   NaN   \n",
        "\n",
        "                         home.dest  \n",
        "0                     St Louis, MO  \n",
        "1  Montreal, PQ / Chesterville, ON  \n",
        "2  Montreal, PQ / Chesterville, ON  \n",
        "3  Montreal, PQ / Chesterville, ON  \n",
        "4  Montreal, PQ / Chesterville, ON  "
       ]
      }
     ],
     "prompt_number": 8
    },
    {
     "cell_type": "code",
     "collapsed": false,
     "input": [
      "#Q: How many passengers are in our passenger list?\n",
      "#A: 1309 passengers\n",
      "\n",
      "titanic_data.info()"
     ],
     "language": "python",
     "metadata": {},
     "outputs": [
      {
       "output_type": "stream",
       "stream": "stdout",
       "text": [
        "<class 'pandas.core.frame.DataFrame'>\n",
        "Int64Index: 1309 entries, 0 to 1308\n",
        "Data columns (total 14 columns):\n",
        "pclass       1309 non-null int64\n",
        "survived     1309 non-null int64\n",
        "name         1309 non-null object\n",
        "sex          1309 non-null object\n",
        "age          1046 non-null float64\n",
        "sibsp        1309 non-null int64\n",
        "parch        1309 non-null int64\n",
        "ticket       1309 non-null object\n",
        "fare         1308 non-null float64\n",
        "cabin        295 non-null object\n",
        "embarked     1307 non-null object\n",
        "boat         486 non-null object\n",
        "body         121 non-null float64\n",
        "home.dest    745 non-null object\n",
        "dtypes: float64(3), int64(4), object(7)"
       ]
      }
     ],
     "prompt_number": 10
    },
    {
     "cell_type": "code",
     "collapsed": false,
     "input": [
      "#Q: What is the overall survival rate?\n",
      "#A: 38% overall survival rate (the mean of the survived column)\n",
      "\n",
      "titanic_data.describe()"
     ],
     "language": "python",
     "metadata": {},
     "outputs": [
      {
       "html": [
        "<div style=\"max-height:1000px;max-width:1500px;overflow:auto;\">\n",
        "<table border=\"1\" class=\"dataframe\">\n",
        "  <thead>\n",
        "    <tr style=\"text-align: right;\">\n",
        "      <th></th>\n",
        "      <th>pclass</th>\n",
        "      <th>survived</th>\n",
        "      <th>age</th>\n",
        "      <th>sibsp</th>\n",
        "      <th>parch</th>\n",
        "      <th>fare</th>\n",
        "      <th>body</th>\n",
        "    </tr>\n",
        "  </thead>\n",
        "  <tbody>\n",
        "    <tr>\n",
        "      <th>count</th>\n",
        "      <td> 1309.00</td>\n",
        "      <td> 1309.00</td>\n",
        "      <td> 1046.00</td>\n",
        "      <td> 1309.00</td>\n",
        "      <td> 1309.00</td>\n",
        "      <td> 1308.00</td>\n",
        "      <td> 121.00</td>\n",
        "    </tr>\n",
        "    <tr>\n",
        "      <th>mean</th>\n",
        "      <td>    2.29</td>\n",
        "      <td>    0.38</td>\n",
        "      <td>   29.88</td>\n",
        "      <td>    0.50</td>\n",
        "      <td>    0.39</td>\n",
        "      <td>   33.30</td>\n",
        "      <td> 160.81</td>\n",
        "    </tr>\n",
        "    <tr>\n",
        "      <th>std</th>\n",
        "      <td>    0.84</td>\n",
        "      <td>    0.49</td>\n",
        "      <td>   14.41</td>\n",
        "      <td>    1.04</td>\n",
        "      <td>    0.87</td>\n",
        "      <td>   51.76</td>\n",
        "      <td>  97.70</td>\n",
        "    </tr>\n",
        "    <tr>\n",
        "      <th>min</th>\n",
        "      <td>    1.00</td>\n",
        "      <td>    0.00</td>\n",
        "      <td>    0.17</td>\n",
        "      <td>    0.00</td>\n",
        "      <td>    0.00</td>\n",
        "      <td>    0.00</td>\n",
        "      <td>   1.00</td>\n",
        "    </tr>\n",
        "    <tr>\n",
        "      <th>25%</th>\n",
        "      <td>    2.00</td>\n",
        "      <td>    0.00</td>\n",
        "      <td>   21.00</td>\n",
        "      <td>    0.00</td>\n",
        "      <td>    0.00</td>\n",
        "      <td>    7.90</td>\n",
        "      <td>  72.00</td>\n",
        "    </tr>\n",
        "    <tr>\n",
        "      <th>50%</th>\n",
        "      <td>    3.00</td>\n",
        "      <td>    0.00</td>\n",
        "      <td>   28.00</td>\n",
        "      <td>    0.00</td>\n",
        "      <td>    0.00</td>\n",
        "      <td>   14.45</td>\n",
        "      <td> 155.00</td>\n",
        "    </tr>\n",
        "    <tr>\n",
        "      <th>75%</th>\n",
        "      <td>    3.00</td>\n",
        "      <td>    1.00</td>\n",
        "      <td>   39.00</td>\n",
        "      <td>    1.00</td>\n",
        "      <td>    0.00</td>\n",
        "      <td>   31.27</td>\n",
        "      <td> 256.00</td>\n",
        "    </tr>\n",
        "    <tr>\n",
        "      <th>max</th>\n",
        "      <td>    3.00</td>\n",
        "      <td>    1.00</td>\n",
        "      <td>   80.00</td>\n",
        "      <td>    8.00</td>\n",
        "      <td>    9.00</td>\n",
        "      <td>  512.33</td>\n",
        "      <td> 328.00</td>\n",
        "    </tr>\n",
        "  </tbody>\n",
        "</table>\n",
        "</div>"
       ],
       "metadata": {},
       "output_type": "pyout",
       "prompt_number": 13,
       "text": [
        "        pclass  survived      age    sibsp    parch     fare    body\n",
        "count  1309.00   1309.00  1046.00  1309.00  1309.00  1308.00  121.00\n",
        "mean      2.29      0.38    29.88     0.50     0.39    33.30  160.81\n",
        "std       0.84      0.49    14.41     1.04     0.87    51.76   97.70\n",
        "min       1.00      0.00     0.17     0.00     0.00     0.00    1.00\n",
        "25%       2.00      0.00    21.00     0.00     0.00     7.90   72.00\n",
        "50%       3.00      0.00    28.00     0.00     0.00    14.45  155.00\n",
        "75%       3.00      1.00    39.00     1.00     0.00    31.27  256.00\n",
        "max       3.00      1.00    80.00     8.00     9.00   512.33  328.00"
       ]
      }
     ],
     "prompt_number": 13
    },
    {
     "cell_type": "code",
     "collapsed": false,
     "input": [
      "#Q: How many male passengers were onboard?\n",
      "#A: 834\n",
      "#Q: How many female passengers were onboard?\n",
      "#A: 466\n",
      "\n",
      "print titanic_data.sex.value_counts()\n"
     ],
     "language": "python",
     "metadata": {},
     "outputs": [
      {
       "output_type": "stream",
       "stream": "stdout",
       "text": [
        "male      843\n",
        "female    466\n",
        "dtype: int64\n"
       ]
      }
     ],
     "prompt_number": 22
    },
    {
     "cell_type": "code",
     "collapsed": false,
     "input": [
      "#Q: What is the overall survival rate of male passengers?\n",
      "#A: 19%\n",
      "#Q: What is the overall survival rate of female passengers?\n",
      "#A: 73%\n",
      "\n",
      "print titanic_data.survived[titanic_data.sex=='male'].mean()\n",
      "\n",
      "print titanic_data.survived[titanic_data.sex=='female'].mean()"
     ],
     "language": "python",
     "metadata": {},
     "outputs": [
      {
       "output_type": "stream",
       "stream": "stdout",
       "text": [
        "0.190984578885\n",
        "0.727467811159\n"
       ]
      }
     ],
     "prompt_number": 32
    },
    {
     "cell_type": "code",
     "collapsed": false,
     "input": [
      "#Q: What is the average age of all passengers onboard?\n",
      "#     a. How did you calculate this average age?\n",
      "#     b. Note that some of the passengers do not have an age value. How did\n",
      "#        you deal with this? What are some other ways of dealing with this?\n",
      "#A: 30 years. While there are 263 missing values for age, in this dataset, whether we\n",
      "#       leave them out or fill in the blanks with an average makes little difference\n",
      "#       and we still end up with a mean of 30\n",
      "\n",
      "nan_ages = np.isnan(titanic_data.age)\n",
      "titanic_data[nan_ages]\n",
      "\n",
      "mean_age = titanic_data['age'][~nan_ages].mean()\n",
      "titanic_data['age'][nan_ages] = mean_age\n",
      "\n",
      "titanic_data.age.describe()\n"
     ],
     "language": "python",
     "metadata": {},
     "outputs": [
      {
       "metadata": {},
       "output_type": "pyout",
       "prompt_number": 35,
       "text": [
        "count    1309.00\n",
        "mean       29.88\n",
        "std        12.88\n",
        "min         0.17\n",
        "25%        22.00\n",
        "50%        29.88\n",
        "75%        35.00\n",
        "max        80.00\n",
        "dtype: float64"
       ]
      }
     ],
     "prompt_number": 35
    },
    {
     "cell_type": "code",
     "collapsed": false,
     "input": [
      "#Q: What is the average age of passengers who survived?\n",
      "#A: 29.1\n",
      "#Q: What is the average age of passengers who did not survive?\n",
      "#A: 30.4\n",
      "\n",
      "print titanic_data.age[titanic_data.survived==1].mean()\n",
      "print titanic_data.age[titanic_data.survived==0].mean()"
     ],
     "language": "python",
     "metadata": {},
     "outputs": [
      {
       "output_type": "stream",
       "stream": "stdout",
       "text": [
        "29.0588260994\n",
        "30.3893648415\n"
       ]
      }
     ],
     "prompt_number": 38
    },
    {
     "cell_type": "code",
     "collapsed": false,
     "input": [
      "#Q: At this (early) point in our analysis, what might you infer about any patterns you are seeing?\n",
      "#A: Those who survived were more likely to be women and children."
     ],
     "language": "python",
     "metadata": {},
     "outputs": []
    },
    {
     "cell_type": "code",
     "collapsed": false,
     "input": [
      "#Q: How many passengers are in each of the three classes of service (e.g. First, Second, Third?)\n",
      "#A: 1: 323, 2: 277, 3: 709\n",
      "\n",
      "print titanic_data.pclass.value_counts()"
     ],
     "language": "python",
     "metadata": {},
     "outputs": [
      {
       "output_type": "stream",
       "stream": "stdout",
       "text": [
        "3    709\n",
        "1    323\n",
        "2    277\n",
        "dtype: int64\n"
       ]
      }
     ],
     "prompt_number": 46
    },
    {
     "cell_type": "code",
     "collapsed": false,
     "input": [
      "#Q: What is the survival rate for passengers in each of the three classes of service?\n",
      "#A: 1: 62%, 2: 43%, 3: 26%\n",
      "\n",
      "titanic_data.groupby('pclass')[['survived','age']].mean()"
     ],
     "language": "python",
     "metadata": {},
     "outputs": [
      {
       "html": [
        "<div style=\"max-height:1000px;max-width:1500px;overflow:auto;\">\n",
        "<table border=\"1\" class=\"dataframe\">\n",
        "  <thead>\n",
        "    <tr style=\"text-align: right;\">\n",
        "      <th></th>\n",
        "      <th>survived</th>\n",
        "      <th>age</th>\n",
        "    </tr>\n",
        "    <tr>\n",
        "      <th>pclass</th>\n",
        "      <th></th>\n",
        "      <th></th>\n",
        "    </tr>\n",
        "  </thead>\n",
        "  <tbody>\n",
        "    <tr>\n",
        "      <th>1</th>\n",
        "      <td> 0.62</td>\n",
        "      <td> 38.04</td>\n",
        "    </tr>\n",
        "    <tr>\n",
        "      <th>2</th>\n",
        "      <td> 0.43</td>\n",
        "      <td> 29.53</td>\n",
        "    </tr>\n",
        "    <tr>\n",
        "      <th>3</th>\n",
        "      <td> 0.26</td>\n",
        "      <td> 26.30</td>\n",
        "    </tr>\n",
        "  </tbody>\n",
        "</table>\n",
        "</div>"
       ],
       "metadata": {},
       "output_type": "pyout",
       "prompt_number": 48,
       "text": [
        "        survived    age\n",
        "pclass                 \n",
        "1           0.62  38.04\n",
        "2           0.43  29.53\n",
        "3           0.26  26.30"
       ]
      }
     ],
     "prompt_number": 48
    },
    {
     "cell_type": "code",
     "collapsed": false,
     "input": [
      "#Q: What else might you conclude?\n",
      "#A: Older passengers were more likely to be able to buy a first class ticket,\n",
      "#   and somem of them had a higher survival rate than younger people in third class."
     ],
     "language": "python",
     "metadata": {},
     "outputs": []
    },
    {
     "cell_type": "code",
     "collapsed": false,
     "input": [
      "#Q: Last, if we were to build a predictive model, which features in the data do you\n",
      "#   think we should include in the model and which can we leave out? Why?\n",
      "#A: We should include pclass, gender, age, fare, and survival rate as those seem to have the largest impact on survival rate."
     ],
     "language": "python",
     "metadata": {},
     "outputs": []
    }
   ],
   "metadata": {}
  }
 ]
}